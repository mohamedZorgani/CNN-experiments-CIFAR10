{
 "cells": [
  {
   "cell_type": "code",
   "execution_count": 247,
   "metadata": {
    "execution": {
     "iopub.execute_input": "2024-10-21T22:21:35.837537Z",
     "iopub.status.busy": "2024-10-21T22:21:35.836849Z",
     "iopub.status.idle": "2024-10-21T22:21:35.842583Z",
     "shell.execute_reply": "2024-10-21T22:21:35.841700Z",
     "shell.execute_reply.started": "2024-10-21T22:21:35.837482Z"
    },
    "trusted": true
   },
   "outputs": [],
   "source": [
    "import torch\n",
    "import torchvision\n",
    "import torchvision.transforms as transforms\n",
    "import torch.optim as optim\n",
    "import torch.nn as nn\n",
    "import torch.optim.lr_scheduler as lr_scheduler\n",
    "from torchvision.models import resnet101"
   ]
  },
  {
   "cell_type": "code",
   "execution_count": 248,
   "metadata": {
    "execution": {
     "iopub.execute_input": "2024-10-21T22:21:35.848148Z",
     "iopub.status.busy": "2024-10-21T22:21:35.847775Z",
     "iopub.status.idle": "2024-10-21T22:21:35.855697Z",
     "shell.execute_reply": "2024-10-21T22:21:35.854824Z",
     "shell.execute_reply.started": "2024-10-21T22:21:35.848103Z"
    },
    "trusted": true
   },
   "outputs": [],
   "source": [
    "transform_train = transforms.Compose([\n",
    "    transforms.RandomCrop(32, padding=4),\n",
    "    transforms.RandomHorizontalFlip(),\n",
    "    transforms.ColorJitter(brightness=0.2, contrast=0.2, saturation=0.2, hue=0.2),\n",
    "    transforms.ToTensor(),\n",
    "    transforms.Normalize((0.5071, 0.4867, 0.4408), (0.2675, 0.2565, 0.2761)),\n",
    "])\n",
    "transform_test = transforms.Compose([\n",
    "    transforms.ToTensor(),\n",
    "    transforms.Normalize((0.4914, 0.4822, 0.4465), (0.2023, 0.1994, 0.2010)),\n",
    "])"
   ]
  },
  {
   "cell_type": "code",
   "execution_count": 249,
   "metadata": {
    "execution": {
     "iopub.execute_input": "2024-10-21T22:21:35.860669Z",
     "iopub.status.busy": "2024-10-21T22:21:35.860274Z",
     "iopub.status.idle": "2024-10-21T22:21:37.550052Z",
     "shell.execute_reply": "2024-10-21T22:21:37.549144Z",
     "shell.execute_reply.started": "2024-10-21T22:21:35.860629Z"
    },
    "trusted": true
   },
   "outputs": [
    {
     "name": "stdout",
     "output_type": "stream",
     "text": [
      "Files already downloaded and verified\n",
      "Files already downloaded and verified\n"
     ]
    }
   ],
   "source": [
    "train_set = torchvision.datasets.CIFAR10(root='./data', train=True, download=True, transform=transform_train)\n",
    "test_set = torchvision.datasets.CIFAR10(root='./data', train=False, download=True, transform=transform_test)\n",
    "test_loader = torch.utils.data.DataLoader(test_set, batch_size=128, shuffle=False, num_workers=2)\n"
   ]
  },
  {
   "cell_type": "code",
   "execution_count": 250,
   "metadata": {
    "execution": {
     "iopub.execute_input": "2024-10-21T22:21:37.552969Z",
     "iopub.status.busy": "2024-10-21T22:21:37.552215Z",
     "iopub.status.idle": "2024-10-21T22:21:38.300465Z",
     "shell.execute_reply": "2024-10-21T22:21:38.299538Z",
     "shell.execute_reply.started": "2024-10-21T22:21:37.552915Z"
    },
    "trusted": true
   },
   "outputs": [
    {
     "name": "stdout",
     "output_type": "stream",
     "text": [
      "Files already downloaded and verified\n",
      "Training dataset size: 50000\n",
      "Validation dataset size: 5000\n",
      "Test dataset size: 5000\n"
     ]
    }
   ],
   "source": [
    "from torchvision import datasets\n",
    "from torch.utils.data import DataLoader, random_split\n",
    "# Load the test dataset\n",
    "test_dataset = datasets.CIFAR10(root='/kaggle/working/', train=False, transform=transform_test, download=True)\n",
    "\n",
    "# Define the sizes for validation and test sets\n",
    "val_size = 5000  # Number of samples for validation\n",
    "test_size = len(test_set) - val_size\n",
    "\n",
    "# Split the test dataset into validation and test datasets\n",
    "val_set, test_set = random_split(test_set, [val_size, test_size])\n",
    "\n",
    "val_loader = DataLoader(dataset=val_set, batch_size=128, shuffle=False)\n",
    "test_loader = DataLoader(dataset=test_set, batch_size=128, shuffle=False)\n",
    "\n",
    "print(f\"Training dataset size: {len(train_set)}\")\n",
    "print(f\"Validation dataset size: {len(val_set)}\")\n",
    "print(f\"Test dataset size: {len(test_set)}\")"
   ]
  },
  {
   "cell_type": "code",
   "execution_count": 251,
   "metadata": {
    "execution": {
     "iopub.execute_input": "2024-10-21T22:21:38.302770Z",
     "iopub.status.busy": "2024-10-21T22:21:38.302297Z",
     "iopub.status.idle": "2024-10-21T22:21:39.233460Z",
     "shell.execute_reply": "2024-10-21T22:21:39.232386Z",
     "shell.execute_reply.started": "2024-10-21T22:21:38.302723Z"
    },
    "trusted": true
   },
   "outputs": [],
   "source": [
    "model = resnet101(pretrained=True)"
   ]
  },
  {
   "cell_type": "code",
   "execution_count": 252,
   "metadata": {
    "execution": {
     "iopub.execute_input": "2024-10-21T22:21:39.236644Z",
     "iopub.status.busy": "2024-10-21T22:21:39.236263Z",
     "iopub.status.idle": "2024-10-21T22:21:39.242989Z",
     "shell.execute_reply": "2024-10-21T22:21:39.241967Z",
     "shell.execute_reply.started": "2024-10-21T22:21:39.236606Z"
    },
    "trusted": true
   },
   "outputs": [
    {
     "data": {
      "text/plain": [
       "1000"
      ]
     },
     "execution_count": 252,
     "metadata": {},
     "output_type": "execute_result"
    }
   ],
   "source": [
    "model.fc.out_features"
   ]
  },
  {
   "cell_type": "code",
   "execution_count": 254,
   "metadata": {
    "execution": {
     "iopub.execute_input": "2024-10-21T22:21:39.250997Z",
     "iopub.status.busy": "2024-10-21T22:21:39.250663Z",
     "iopub.status.idle": "2024-10-21T22:21:39.258013Z",
     "shell.execute_reply": "2024-10-21T22:21:39.257062Z",
     "shell.execute_reply.started": "2024-10-21T22:21:39.250945Z"
    },
    "trusted": true
   },
   "outputs": [],
   "source": [
    "model.conv1 = nn.Conv2d(\n",
    "    in_channels=3,\n",
    "    out_channels=64,\n",
    "    kernel_size=(3, 3),\n",
    "    stride=(1, 1),\n",
    "    padding=(1, 1),\n",
    "    bias=False  \n",
    ")\n",
    "\n",
    "model.fc = nn.Linear(model.fc.in_features, 10) \n"
   ]
  },
  {
   "cell_type": "code",
   "execution_count": 255,
   "metadata": {
    "execution": {
     "iopub.execute_input": "2024-10-21T22:21:39.261559Z",
     "iopub.status.busy": "2024-10-21T22:21:39.260676Z",
     "iopub.status.idle": "2024-10-21T22:21:39.267564Z",
     "shell.execute_reply": "2024-10-21T22:21:39.266580Z",
     "shell.execute_reply.started": "2024-10-21T22:21:39.261515Z"
    },
    "trusted": true
   },
   "outputs": [
    {
     "data": {
      "text/plain": [
       "Conv2d(3, 64, kernel_size=(3, 3), stride=(1, 1), padding=(1, 1), bias=False)"
      ]
     },
     "execution_count": 255,
     "metadata": {},
     "output_type": "execute_result"
    }
   ],
   "source": [
    "model.conv1"
   ]
  },
  {
   "cell_type": "code",
   "execution_count": 256,
   "metadata": {
    "execution": {
     "iopub.execute_input": "2024-10-21T22:21:39.269283Z",
     "iopub.status.busy": "2024-10-21T22:21:39.268817Z",
     "iopub.status.idle": "2024-10-21T22:21:39.277145Z",
     "shell.execute_reply": "2024-10-21T22:21:39.276242Z",
     "shell.execute_reply.started": "2024-10-21T22:21:39.269238Z"
    },
    "trusted": true
   },
   "outputs": [
    {
     "data": {
      "text/plain": [
       "Linear(in_features=2048, out_features=10, bias=True)"
      ]
     },
     "execution_count": 256,
     "metadata": {},
     "output_type": "execute_result"
    }
   ],
   "source": [
    "model.fc"
   ]
  },
  {
   "cell_type": "code",
   "execution_count": 257,
   "metadata": {
    "execution": {
     "iopub.execute_input": "2024-10-21T22:21:39.279123Z",
     "iopub.status.busy": "2024-10-21T22:21:39.278760Z",
     "iopub.status.idle": "2024-10-21T22:21:39.356317Z",
     "shell.execute_reply": "2024-10-21T22:21:39.355263Z",
     "shell.execute_reply.started": "2024-10-21T22:21:39.279081Z"
    },
    "trusted": true
   },
   "outputs": [
    {
     "name": "stdout",
     "output_type": "stream",
     "text": [
      "True\n"
     ]
    }
   ],
   "source": [
    "# Training settings\n",
    "device = torch.device('cuda' if torch.cuda.is_available() else 'cpu')\n",
    "print(torch.cuda.is_available())\n",
    "model = model.to(device)\n",
    "\n",
    "criterion = nn.CrossEntropyLoss()\n",
    "optimizer = optim.SGD(model.parameters(), lr=0.01,momentum=0.9 )\n",
    "scheduler = lr_scheduler.StepLR(optimizer, step_size = 10, gamma = 0.1)"
   ]
  },
  {
   "cell_type": "code",
   "execution_count": 258,
   "metadata": {
    "execution": {
     "iopub.execute_input": "2024-10-21T22:21:39.360589Z",
     "iopub.status.busy": "2024-10-21T22:21:39.360290Z",
     "iopub.status.idle": "2024-10-21T23:13:34.465703Z",
     "shell.execute_reply": "2024-10-21T23:13:34.464124Z",
     "shell.execute_reply.started": "2024-10-21T22:21:39.360556Z"
    },
    "trusted": true
   },
   "outputs": [
    {
     "name": "stdout",
     "output_type": "stream",
     "text": [
      "Epoch [1/400]\n",
      "Train Loss: 1.1409 | Train Accuracy: 60.64%\n",
      "Val Loss: 1.1967 | Val Accuracy: 73.66%\n",
      "Epoch [2/400]\n",
      "Train Loss: 0.5974 | Train Accuracy: 79.55%\n",
      "Val Loss: 0.4639 | Val Accuracy: 83.72%\n",
      "Epoch [3/400]\n",
      "Train Loss: 0.4314 | Train Accuracy: 85.06%\n",
      "Val Loss: 0.3968 | Val Accuracy: 86.08%\n",
      "Epoch [4/400]\n",
      "Train Loss: 0.3504 | Train Accuracy: 87.81%\n",
      "Val Loss: 0.3773 | Val Accuracy: 86.86%\n",
      "Epoch [5/400]\n",
      "Train Loss: 0.3038 | Train Accuracy: 89.49%\n",
      "Val Loss: 0.3615 | Val Accuracy: 87.98%\n",
      "Epoch [6/400]\n",
      "Train Loss: 0.2608 | Train Accuracy: 91.02%\n",
      "Val Loss: 0.5404 | Val Accuracy: 86.86%\n",
      "Epoch [7/400]\n",
      "Train Loss: 0.2400 | Train Accuracy: 91.56%\n",
      "Val Loss: 0.3108 | Val Accuracy: 89.74%\n",
      "Epoch [8/400]\n",
      "Train Loss: 0.2124 | Train Accuracy: 92.65%\n",
      "Val Loss: 0.3274 | Val Accuracy: 89.16%\n",
      "Epoch [9/400]\n",
      "Train Loss: 0.1903 | Train Accuracy: 93.38%\n",
      "Val Loss: 0.3120 | Val Accuracy: 89.58%\n",
      "Epoch [10/400]\n",
      "Train Loss: 0.1788 | Train Accuracy: 93.74%\n",
      "Val Loss: 0.2834 | Val Accuracy: 91.20%\n",
      "Epoch [11/400]\n",
      "Train Loss: 0.1143 | Train Accuracy: 96.10%\n",
      "Val Loss: 0.2588 | Val Accuracy: 91.56%\n",
      "Epoch [12/400]\n",
      "Train Loss: 0.0919 | Train Accuracy: 96.86%\n",
      "Val Loss: 0.2511 | Val Accuracy: 92.14%\n",
      "Epoch [13/400]\n",
      "Train Loss: 0.0799 | Train Accuracy: 97.24%\n",
      "Val Loss: 0.2542 | Val Accuracy: 92.16%\n",
      "Epoch [14/400]\n",
      "Train Loss: 0.0755 | Train Accuracy: 97.37%\n",
      "Val Loss: 0.2568 | Val Accuracy: 92.22%\n",
      "Epoch [15/400]\n",
      "Train Loss: 0.0674 | Train Accuracy: 97.63%\n",
      "Val Loss: 0.2492 | Val Accuracy: 92.54%\n",
      "Epoch [16/400]\n",
      "Train Loss: 0.0642 | Train Accuracy: 97.82%\n",
      "Val Loss: 0.2471 | Val Accuracy: 92.48%\n",
      "Epoch [17/400]\n",
      "Train Loss: 0.0590 | Train Accuracy: 97.92%\n",
      "Val Loss: 0.2540 | Val Accuracy: 92.32%\n",
      "Epoch [18/400]\n",
      "Train Loss: 0.0536 | Train Accuracy: 98.10%\n",
      "Val Loss: 0.2619 | Val Accuracy: 92.38%\n",
      "Epoch [19/400]\n",
      "Train Loss: 0.0512 | Train Accuracy: 98.17%\n",
      "Val Loss: 0.2541 | Val Accuracy: 92.44%\n",
      "Epoch [20/400]\n",
      "Train Loss: 0.0514 | Train Accuracy: 98.24%\n",
      "Val Loss: 0.2553 | Val Accuracy: 92.72%\n",
      "Epoch [21/400]\n",
      "Train Loss: 0.0442 | Train Accuracy: 98.50%\n",
      "Val Loss: 0.2519 | Val Accuracy: 92.70%\n",
      "Epoch [22/400]\n",
      "Train Loss: 0.0426 | Train Accuracy: 98.47%\n",
      "Val Loss: 0.2535 | Val Accuracy: 92.62%\n",
      "Epoch [23/400]\n",
      "Train Loss: 0.0417 | Train Accuracy: 98.55%\n",
      "Val Loss: 0.2536 | Val Accuracy: 92.58%\n",
      "Epoch [24/400]\n",
      "Train Loss: 0.0391 | Train Accuracy: 98.70%\n",
      "Val Loss: 0.2602 | Val Accuracy: 92.56%\n",
      "Epoch [25/400]\n",
      "Train Loss: 0.0401 | Train Accuracy: 98.56%\n",
      "Val Loss: 0.2626 | Val Accuracy: 92.52%\n",
      "Epoch [26/400]\n",
      "Train Loss: 0.0406 | Train Accuracy: 98.60%\n",
      "Val Loss: 0.2631 | Val Accuracy: 92.50%\n",
      "Epoch [27/400]\n",
      "Train Loss: 0.0397 | Train Accuracy: 98.65%\n",
      "Val Loss: 0.2656 | Val Accuracy: 92.44%\n",
      "Epoch [28/400]\n",
      "Train Loss: 0.0382 | Train Accuracy: 98.66%\n",
      "Val Loss: 0.2622 | Val Accuracy: 92.42%\n",
      "Epoch [29/400]\n",
      "Train Loss: 0.0384 | Train Accuracy: 98.62%\n",
      "Val Loss: 0.2574 | Val Accuracy: 92.48%\n",
      "Epoch [30/400]\n",
      "Train Loss: 0.0391 | Train Accuracy: 98.66%\n",
      "Val Loss: 0.2565 | Val Accuracy: 92.70%\n",
      "Epoch [31/400]\n",
      "Train Loss: 0.0366 | Train Accuracy: 98.68%\n",
      "Val Loss: 0.2626 | Val Accuracy: 92.64%\n",
      "Epoch [32/400]\n",
      "Train Loss: 0.0372 | Train Accuracy: 98.73%\n",
      "Val Loss: 0.2664 | Val Accuracy: 92.42%\n",
      "Epoch [33/400]\n",
      "Train Loss: 0.0395 | Train Accuracy: 98.65%\n",
      "Val Loss: 0.2681 | Val Accuracy: 92.42%\n",
      "Epoch [34/400]\n",
      "Train Loss: 0.0389 | Train Accuracy: 98.65%\n",
      "Val Loss: 0.2611 | Val Accuracy: 92.70%\n",
      "Epoch [35/400]\n",
      "Train Loss: 0.0355 | Train Accuracy: 98.81%\n",
      "Val Loss: 0.2584 | Val Accuracy: 92.58%\n"
     ]
    },
    {
     "ename": "KeyboardInterrupt",
     "evalue": "",
     "output_type": "error",
     "traceback": [
      "\u001b[0;31m---------------------------------------------------------------------------\u001b[0m",
      "\u001b[0;31mKeyboardInterrupt\u001b[0m                         Traceback (most recent call last)",
      "Cell \u001b[0;32mIn[258], line 20\u001b[0m\n\u001b[1;32m     17\u001b[0m loss\u001b[38;5;241m.\u001b[39mbackward()  \u001b[38;5;66;03m# Backpropagation\u001b[39;00m\n\u001b[1;32m     18\u001b[0m optimizer\u001b[38;5;241m.\u001b[39mstep()  \u001b[38;5;66;03m# Update model parameters\u001b[39;00m\n\u001b[0;32m---> 20\u001b[0m running_train_loss \u001b[38;5;241m+\u001b[39m\u001b[38;5;241m=\u001b[39m \u001b[43mloss\u001b[49m\u001b[38;5;241;43m.\u001b[39;49m\u001b[43mitem\u001b[49m\u001b[43m(\u001b[49m\u001b[43m)\u001b[49m  \u001b[38;5;66;03m# Accumulate training loss\u001b[39;00m\n\u001b[1;32m     22\u001b[0m \u001b[38;5;66;03m# Track training accuracy\u001b[39;00m\n\u001b[1;32m     23\u001b[0m _, predicted \u001b[38;5;241m=\u001b[39m outputs\u001b[38;5;241m.\u001b[39mmax(\u001b[38;5;241m1\u001b[39m)\n",
      "\u001b[0;31mKeyboardInterrupt\u001b[0m: "
     ]
    }
   ],
   "source": [
    "# Training Loop with Validation Loss and Accuracy\n",
    "num_epochs = 400\n",
    "\n",
    "for epoch in range(num_epochs):\n",
    "    # Training Phase\n",
    "    model.train()  # Set the model to training mode\n",
    "    running_train_loss = 0.0\n",
    "    correct_train = 0\n",
    "    total_train = 0\n",
    "    \n",
    "    for images, labels in train_loader:\n",
    "        images, labels = images.to(device), labels.to(device)\n",
    "        \n",
    "        optimizer.zero_grad()  # Zero the gradients\n",
    "        outputs = model(images)  # Forward pass\n",
    "        loss = criterion(outputs, labels)  # Compute loss\n",
    "        loss.backward()  # Backpropagation\n",
    "        optimizer.step()  # Update model parameters\n",
    "        \n",
    "        running_train_loss += loss.item()  # Accumulate training loss\n",
    "        \n",
    "        # Track training accuracy\n",
    "        _, predicted = outputs.max(1)\n",
    "        total_train += labels.size(0)\n",
    "        correct_train += predicted.eq(labels).sum().item()\n",
    "    \n",
    "    train_loss = running_train_loss / len(train_loader)\n",
    "    train_accuracy = 100 * correct_train / total_train\n",
    "\n",
    "    # Validation Phase\n",
    "    model.eval()  \n",
    "    running_val_loss = 0.0\n",
    "    correct_val = 0\n",
    "    total_val = 0\n",
    "    \n",
    "    with torch.no_grad():  \n",
    "        for images, labels in test_loader:\n",
    "            images, labels = images.to(device), labels.to(device)\n",
    "            outputs = model(images)  # Forward pass\n",
    "            loss = criterion(outputs, labels)  # Compute validation loss\n",
    "            running_val_loss += loss.item()\n",
    "            \n",
    "            # Track validation accuracy\n",
    "            _, predicted = outputs.max(1)\n",
    "            total_val += labels.size(0)\n",
    "            correct_val += predicted.eq(labels).sum().item()\n",
    "    \n",
    "    val_loss = running_val_loss / len(test_loader)\n",
    "    val_accuracy = 100 * correct_val / total_val\n",
    "\n",
    "    # Print training and validation metrics\n",
    "    print(f'Epoch [{epoch + 1}/{num_epochs}]')\n",
    "    print(f'Train Loss: {train_loss:.4f} | Train Accuracy: {train_accuracy:.2f}%')\n",
    "    print(f'Val Loss: {val_loss:.4f} | Val Accuracy: {val_accuracy:.2f}%')\n",
    "    \n",
    "    scheduler.step()  "
   ]
  },
  {
   "cell_type": "code",
   "execution_count": 259,
   "metadata": {
    "execution": {
     "iopub.execute_input": "2024-10-21T23:13:49.122042Z",
     "iopub.status.busy": "2024-10-21T23:13:49.121399Z",
     "iopub.status.idle": "2024-10-21T23:13:49.128720Z",
     "shell.execute_reply": "2024-10-21T23:13:49.127794Z",
     "shell.execute_reply.started": "2024-10-21T23:13:49.121996Z"
    },
    "trusted": true
   },
   "outputs": [],
   "source": [
    "def check_accuracy(loader,model):\n",
    "    num_correct = 0\n",
    "    num_samples = 0\n",
    "    model.eval()\n",
    "\n",
    "    with torch.no_grad():\n",
    "        for x,y in loader:\n",
    "            x = x.to(device = device)\n",
    "            y = y.to(device = device)\n",
    "\n",
    "            scores = model(x)\n",
    "            _, predictions = scores.max(1)\n",
    "            num_correct += (predictions == y).sum()\n",
    "            num_samples += predictions.size(0)\n",
    "    #model.train()\n",
    "    return num_correct / num_samples"
   ]
  },
  {
   "cell_type": "code",
   "execution_count": 260,
   "metadata": {
    "execution": {
     "iopub.execute_input": "2024-10-21T23:13:53.179886Z",
     "iopub.status.busy": "2024-10-21T23:13:53.178923Z",
     "iopub.status.idle": "2024-10-21T23:13:56.045702Z",
     "shell.execute_reply": "2024-10-21T23:13:56.044671Z",
     "shell.execute_reply.started": "2024-10-21T23:13:53.179840Z"
    },
    "trusted": true
   },
   "outputs": [
    {
     "data": {
      "text/plain": [
       "tensor(0.9250, device='cuda:0')"
      ]
     },
     "execution_count": 260,
     "metadata": {},
     "output_type": "execute_result"
    }
   ],
   "source": [
    "check_accuracy(test_loader,model)"
   ]
  },
  {
   "cell_type": "code",
   "execution_count": 262,
   "metadata": {
    "execution": {
     "iopub.execute_input": "2024-10-21T23:14:49.865606Z",
     "iopub.status.busy": "2024-10-21T23:14:49.864800Z",
     "iopub.status.idle": "2024-10-21T23:14:50.375558Z",
     "shell.execute_reply": "2024-10-21T23:14:50.374723Z",
     "shell.execute_reply.started": "2024-10-21T23:14:49.865561Z"
    },
    "trusted": true
   },
   "outputs": [],
   "source": [
    "        torch.save({\n",
    "        'epoch': epoch + 1,\n",
    "        'model_state_dict': model.state_dict(),\n",
    "        'optimizer_state_dict': optimizer.state_dict(),\n",
    "        'loss': loss,\n",
    "        }, \"model_checkpoint0925.pth\")"
   ]
  }
 ],
 "metadata": {
  "kaggle": {
   "accelerator": "nvidiaTeslaT4",
   "dataSources": [],
   "dockerImageVersionId": 30786,
   "isGpuEnabled": true,
   "isInternetEnabled": true,
   "language": "python",
   "sourceType": "notebook"
  },
  "kernelspec": {
   "display_name": "Python 3",
   "language": "python",
   "name": "python3"
  },
  "language_info": {
   "codemirror_mode": {
    "name": "ipython",
    "version": 3
   },
   "file_extension": ".py",
   "mimetype": "text/x-python",
   "name": "python",
   "nbconvert_exporter": "python",
   "pygments_lexer": "ipython3",
   "version": "3.10.14"
  }
 },
 "nbformat": 4,
 "nbformat_minor": 4
}
